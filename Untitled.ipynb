{
 "cells": [
  {
   "cell_type": "code",
   "execution_count": null,
   "id": "2da41959-8eef-4dc4-9901-0c1ddecc059c",
   "metadata": {},
   "outputs": [],
   "source": [
    "# import necessary modules\n",
    "import sounddevice as sd\n",
    "from scipy.io.wavfile import write\n",
    "%matplotlib inline\n",
    "import matplotlib.pyplot as plt\n",
    "import librosa.display\n",
    "import IPython.display as ipd\n",
    "\n"
   ]
  }
 ],
 "metadata": {
  "kernelspec": {
   "display_name": "Python 3 (ipykernel)",
   "language": "python",
   "name": "python3"
  },
  "language_info": {
   "codemirror_mode": {
    "name": "ipython",
    "version": 3
   },
   "file_extension": ".py",
   "mimetype": "text/x-python",
   "name": "python",
   "nbconvert_exporter": "python",
   "pygments_lexer": "ipython3",
   "version": "3.12.1"
  }
 },
 "nbformat": 4,
 "nbformat_minor": 5
}
